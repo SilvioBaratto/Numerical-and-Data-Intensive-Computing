{
 "cells": [
  {
   "cell_type": "code",
   "execution_count": 1,
   "metadata": {},
   "outputs": [
    {
     "name": "stdout",
     "output_type": "stream",
     "text": [
      "22/11/25 18:47:34 WARN Utils: Your hostname, Tobiass-MacBook.local resolves to a loopback address: 127.0.0.1; using 10.27.90.105 instead (on interface en0)\n",
      "22/11/25 18:47:34 WARN Utils: Set SPARK_LOCAL_IP if you need to bind to another address\n"
     ]
    },
    {
     "name": "stderr",
     "output_type": "stream",
     "text": [
      "Setting default log level to \"WARN\".\n",
      "To adjust logging level use sc.setLogLevel(newLevel). For SparkR, use setLogLevel(newLevel).\n"
     ]
    },
    {
     "name": "stdout",
     "output_type": "stream",
     "text": [
      "22/11/25 18:47:34 WARN NativeCodeLoader: Unable to load native-hadoop library for your platform... using builtin-java classes where applicable\n",
      "22/11/25 18:47:34 WARN Utils: Service 'SparkUI' could not bind on port 4040. Attempting port 4041.\n"
     ]
    }
   ],
   "source": [
    "from pyspark import SparkContext\n",
    "from pyspark.sql.functions import countDistinct\n",
    "sc=SparkContext()"
   ]
  },
  {
   "cell_type": "code",
   "execution_count": 26,
   "metadata": {},
   "outputs": [],
   "source": [
    "import numpy as np\n"
   ]
  },
  {
   "cell_type": "markdown",
   "metadata": {},
   "source": [
    "Pseude Code:\n",
    "\n",
    "agrupar por user, device, gt\n",
    "    para x, y, z sacar\n",
    "        median\n",
    "        desv\n",
    "        max\n",
    "        min\n",
    "\n",
    "join data from different datasets into RDDs\n",
    "Analize RDDs\n",
    "\n",
    "Don´t repeat code!\n",
    "avoid many (unnecessary) lines of code / repetitions"
   ]
  },
  {
   "cell_type": "code",
   "execution_count": 20,
   "metadata": {},
   "outputs": [],
   "source": [
    "#columns = [\"index\", \"arrival_time\", \"creation_time\", \"x\", \"y\", \"z\", \"user\", \"model\", \"device\", \"activity\"]\n",
    "\n",
    "pa = sc.textFile('Phones_accelerometer.csv')\n",
    "\n",
    "pg = sc.textFile('Phones_gyroscope.csv')\n",
    "\n",
    "wa = sc.textFile('Watch_accelerometer.csv')\n",
    "\n",
    "wg = sc.textFile('Watch_gyroscope.csv')\n"
   ]
  },
  {
   "cell_type": "code",
   "execution_count": 123,
   "metadata": {},
   "outputs": [
    {
     "data": {
      "text/plain": [
       "[('a,gear,stand',\n",
       "  array([5047.        ,  111.77420486, -165.88138325, -360.541152  ,\n",
       "           29.48112279,   21.11171523,   38.46312038])),\n",
       " ('a,gear,null',\n",
       "  array([ 3.43000000e+02,  7.74154314e+00, -1.25568048e+01, -2.45913637e+01,\n",
       "          2.83401834e-01,  5.05536017e-01,  1.78524658e+00])),\n",
       " ('a,gear,sit',\n",
       "  array([4610.        ,  104.67288548, -190.95770893, -322.57645873,\n",
       "           17.37226198,   22.50625132,   32.00580686]))]"
      ]
     },
     "execution_count": 123,
     "metadata": {},
     "output_type": "execute_result"
    }
   ],
   "source": [
    "split = wg.map(lambda x : x.split(\",\"))\n",
    "keyed = split.map(lambda x : (x[6] + \",\" + x[7]+ \",\" + x[9], np.array([1, float(x[3]), float(x[4]), float(x[5]), float(x[3])**2, float(x[4])**2, float(x[5])**2])))\n",
    "\n",
    "sum = keyed.reduceByKey(lambda x, y : x + y)\n",
    "std = sum.map(lambda x : (x[0], np.array([np.sqrt((x[1][4]/x[1][0])-(x[1][1]/x[1][0])**2), np.sqrt((x[1][5]/x[1][0])-(x[1][2]/x[1][0])**2), np.sqrt((x[1][6]/x[1][0])-(x[1][3]/x[1][0])**2)])))\n",
    "mean = sum.map(lambda x : (x[0], np.array((x[1][1]/x[1][0], x[1][2]/x[1][0], x[1][3]/x[1][0]))))\n",
    "\n",
    "#sum_std = keyed.map(lambda x: (x[1][1]  - mean[1][1])**2)\n",
    "'''std = sum_std.reduce(lambda x,y: x + y)\n",
    "std = np.sqrt(std/heights.count())'''\n",
    "\n",
    "sum.collect()"
   ]
  },
  {
   "cell_type": "code",
   "execution_count": 132,
   "metadata": {},
   "outputs": [],
   "source": [
    "def read_in(filename):\n",
    "    #read in file and split at \",\"\n",
    "    rdd = sc.textFile(filename)\n",
    "    split_rdd = rdd.map(lambda x : x.split(\",\"))\n",
    "\n",
    "    #remove unnecessary variables, create primary key (user + model + gt), create floats: counter variable, x, y, z\n",
    "    keyed = split_rdd.map(lambda x : (x[6] + \",\" + x[7]+ \",\" + x[9], np.array([1, float(x[3]), float(x[4]), float(x[5])])))\n",
    "    return keyed"
   ]
  },
  {
   "cell_type": "code",
   "execution_count": 141,
   "metadata": {},
   "outputs": [],
   "source": [
    "def calc_mean(rdd):\n",
    "    # sum up numericals from input rdd --> x[1]: count per key, sum(x), sum(y), sum(z)\n",
    "    sum = rdd.reduceByKey(lambda x, y : x + y)\n",
    "    # divide sums by count\n",
    "    mean = sum.map(lambda x : (x[0], np.array((x[1][1]/x[1][0], x[1][2]/x[1][0], x[1][3]/x[1][0]))))\n",
    "\n",
    "    return mean\n"
   ]
  },
  {
   "cell_type": "code",
   "execution_count": 134,
   "metadata": {},
   "outputs": [],
   "source": [
    "def calc_std(rdd):\n",
    "    #remove unnecessary variables, create primary key (user + model + gt), create floats: counter variable, x, y, z, x^2, y^2, z^2 \n",
    "    work_rdd = rdd.map(lambda x : (x[0], np.array([1, x[1][1], x[1][2], x[1][3], (x[1][1])**2, (x[1][2])**2, (x[1][3])**2])))\n",
    "\n",
    "    # sum up individual numerical values\n",
    "    sum = work_rdd.reduceByKey(lambda x, y : x + y)\n",
    "    # calculate std as follows: sqrt( (sum(x^2)/N) - (sum(x)/N)^2 )\n",
    "    std = sum.map(lambda x : (x[0], np.array([np.sqrt((x[1][4]/x[1][0])-(x[1][1]/x[1][0])**2), np.sqrt((x[1][5]/x[1][0])-(x[1][2]/x[1][0])**2), np.sqrt((x[1][6]/x[1][0])-(x[1][3]/x[1][0])**2)])))\n",
    "\n",
    "    return std"
   ]
  },
  {
   "cell_type": "code",
   "execution_count": 411,
   "metadata": {},
   "outputs": [],
   "source": [
    "def find_max(rdd):\n",
    "    rdd = read_in('Watch_gyroscope.csv')\n",
    "    rdd = rdd.filter(lambda x : x[0] == 'a,gear,null')\n",
    "    first_line = rdd.take(1)\n",
    "    count = rdd.count()\n",
    "    print(rdd.count())\n",
    "\n",
    "    while count > 0:\n",
    "        max_x = first_line[0][1][1]\n",
    "        maxed_x = rdd.filter(lambda x :  x[1][1] > max_x )\n",
    "        count = maxed_x.count()\n",
    "        first_line = maxed_x.take(1)\n",
    "    \n",
    "    count = rdd.count()\n",
    "    first_line = rdd.take(1)\n",
    "    while count > 0:\n",
    "        max_y = first_line[0][1][2]\n",
    "        maxed_y = rdd.filter(lambda x :  x[1][2] > max_y )\n",
    "        count = maxed_y.count()\n",
    "        first_line = maxed_y.take(1)\n",
    "    \n",
    "    count = rdd.count()\n",
    "    first_line = rdd.take(1)\n",
    "    while count > 0:\n",
    "        max_z = first_line[0][1][3]\n",
    "        maxed_z = rdd.filter(lambda x :  x[1][3] > max_z )\n",
    "        count = maxed_z.count()\n",
    "        first_line = maxed_z.take(1)\n",
    "\n",
    "    return [max_x, max_y, max_z]"
   ]
  },
  {
   "cell_type": "code",
   "execution_count": 413,
   "metadata": {},
   "outputs": [
    {
     "name": "stdout",
     "output_type": "stream",
     "text": [
      "343\n"
     ]
    },
    {
     "data": {
      "text/plain": [
       "[0.0561927, -0.018109497, -0.055127434]"
      ]
     },
     "execution_count": 413,
     "metadata": {},
     "output_type": "execute_result"
    }
   ],
   "source": [
    "rdd = read_in('Watch_gyroscope.csv')\n",
    "#out = rdd.filter(lambda x : x[0] == 'a,gear,null')\n",
    "out = find_max(rdd)\n",
    "out"
   ]
  },
  {
   "cell_type": "code",
   "execution_count": 483,
   "metadata": {},
   "outputs": [],
   "source": [
    "def get_keys(rdd):\n",
    "    \n",
    "    out = rdd.reduceByKey(lambda x, y: x+y)\n",
    "\n",
    "\n",
    "    collected = out.collect()\n",
    "    keys = []\n",
    "    for i in range(out.count()):\n",
    "        keys.append(collected[i][0])\n",
    "\n",
    "    return keys\n"
   ]
  },
  {
   "cell_type": "code",
   "execution_count": 484,
   "metadata": {},
   "outputs": [],
   "source": [
    "def find_max(rdd):\n",
    "    rdd = read_in('Watch_gyroscope.csv')\n",
    "    keys = get_keys(rdd)\n",
    "    out = sc.emptyRDD()\n",
    "    #print(out.collect(), \"break\\n\")\n",
    "\n",
    "    for i in range(len(keys)):\n",
    "        key = keys[i]\n",
    "        #print(key)\n",
    "        max_values = np.empty([3,1])\n",
    "        for i in range(3):\n",
    "            current = rdd.filter(lambda x : x[0]==key)\n",
    "            #print(current.take(1))\n",
    "            current_x = current.map(lambda x: (x[0], x[1][i+1]))\n",
    "            max_x = current_x.max()\n",
    "            max_values[i] = max_x[1]\n",
    "            #print(max_x[1])\n",
    "        \n",
    "        entry = (str(key), max_values)\n",
    "        entry_rdd = sc.parallelize(entry)\n",
    "        #print(entry_rdd.collect())\n",
    "        out = out.union(entry_rdd)\n",
    "    #out = out.map(lambda x : (x[0], list(x[1:])))\n",
    "    #out.collect()\n",
    "    return out"
   ]
  },
  {
   "cell_type": "code",
   "execution_count": 482,
   "metadata": {},
   "outputs": [
    {
     "data": {
      "text/plain": [
       "['a,gear,stand',\n",
       " array([[0.81039995],\n",
       "        [0.35446674],\n",
       "        [1.1475562 ]]),\n",
       " 'a,gear,null',\n",
       " array([[ 0.0561927 ],\n",
       "        [-0.0181095 ],\n",
       "        [-0.05512743]]),\n",
       " 'a,gear,sit',\n",
       " array([[0.39867523],\n",
       "        [0.39920786],\n",
       "        [0.77604514]])]"
      ]
     },
     "execution_count": 482,
     "metadata": {},
     "output_type": "execute_result"
    }
   ],
   "source": [
    "rdd = read_in('Watch_gyroscope.csv')\n",
    "keys = get_keys(rdd)\n",
    "out = sc.emptyRDD()\n",
    "#print(out.collect(), \"break\\n\")\n",
    "\n",
    "for i in range(len(keys)):\n",
    "    key = keys[i]\n",
    "    #print(key)\n",
    "    max_values = np.empty([3,1])\n",
    "    for i in range(3):\n",
    "        current = rdd.filter(lambda x : x[0]==key)\n",
    "        #print(current.take(1))\n",
    "        current_x = current.map(lambda x: (x[0], x[1][i+1]))\n",
    "        max_x = current_x.max()\n",
    "        max_values[i] = max_x[1]\n",
    "        #print(max_x[1])\n",
    "    \n",
    "    entry = (str(key), max_values)\n",
    "    entry_rdd = sc.parallelize(entry)\n",
    "    #print(entry_rdd.collect())\n",
    "    out = out.union(entry_rdd)\n",
    "#out = out.map(lambda x : (x[0], list(x[1:])))\n",
    "out.collect()"
   ]
  },
  {
   "cell_type": "code",
   "execution_count": 507,
   "metadata": {},
   "outputs": [],
   "source": [
    "def find_min(rdd):\n",
    "    rdd = read_in('Watch_gyroscope.csv')\n",
    "    keys = get_keys(rdd)\n",
    "    out = sc.emptyRDD()\n",
    "    #print(out.collect(), \"break\\n\")\n",
    "\n",
    "    for i in range(len(keys)):\n",
    "        key = keys[i]\n",
    "        #print(key)\n",
    "        max_values = np.empty([3,1])\n",
    "        for i in range(3):\n",
    "            current = rdd.filter(lambda x : x[0]==key)\n",
    "            #print(current.take(1))\n",
    "            current_x = current.map(lambda x: (x[0], x[1][i+1]))\n",
    "            max_x = current_x.min()\n",
    "            max_values[i] = max_x[1]\n",
    "            #print(max_x[1])\n",
    "        \n",
    "        entry = (str(key), max_values)\n",
    "        entry_rdd = sc.parallelize(entry)\n",
    "        #print(entry_rdd.collect())\n",
    "        out = out.union(entry_rdd)\n",
    "    #out = out.map(lambda x : (x[0], list(x[1:])))\n",
    "    #out.collect()\n",
    "    return out"
   ]
  },
  {
   "cell_type": "code",
   "execution_count": 508,
   "metadata": {},
   "outputs": [],
   "source": [
    "def process(filename):\n",
    "    rdd = read_in(filename)\n",
    "    mean = calc_mean(rdd)\n",
    "    std = calc_std(rdd)\n",
    "    max = find_max(rdd)\n",
    "    min = find_min(rdd)\n",
    "\n",
    "    out = mean.union(std)\n",
    "    out = out.union(max)\n",
    "    out = out.union(min)\n",
    "    return out"
   ]
  },
  {
   "cell_type": "code",
   "execution_count": 509,
   "metadata": {},
   "outputs": [
    {
     "data": {
      "text/plain": [
       "[('a,gear,stand', array([ 0.02214666, -0.03286732, -0.07143673])),\n",
       " ('a,gear,null', array([ 0.0225701 , -0.03660876, -0.07169494])),\n",
       " ('a,gear,sit', array([ 0.02270562, -0.0414225 , -0.0699732 ])),\n",
       " ('a,gear,stand', array([0.07314945, 0.05570244, 0.0501775 ])),\n",
       " ('a,gear,null', array([0.01779986, 0.01156134, 0.00803968])),\n",
       " ('a,gear,sit', array([0.05703369, 0.05626924, 0.04523762])),\n",
       " 'a,gear,stand',\n",
       " array([[0.81039995],\n",
       "        [0.35446674],\n",
       "        [1.1475562 ]]),\n",
       " 'a,gear,null',\n",
       " array([[ 0.0561927 ],\n",
       "        [-0.0181095 ],\n",
       "        [-0.05512743]]),\n",
       " 'a,gear,sit',\n",
       " array([[0.39867523],\n",
       "        [0.39920786],\n",
       "        [0.77604514]]),\n",
       " 'a,gear,stand',\n",
       " array([[-2.0383835 ],\n",
       "        [-0.55287224],\n",
       "        [-1.2319783 ]]),\n",
       " 'a,gear,null',\n",
       " array([[-0.0314253 ],\n",
       "        [-0.08042747],\n",
       "        [-0.09347696]]),\n",
       " 'a,gear,sit',\n",
       " array([[-0.700944  ],\n",
       "        [-0.79042625],\n",
       "        [-0.22849922]])]"
      ]
     },
     "execution_count": 509,
     "metadata": {},
     "output_type": "execute_result"
    }
   ],
   "source": [
    "out = process('Watch_gyroscope.csv')\n",
    "out.collect()"
   ]
  },
  {
   "cell_type": "code",
   "execution_count": null,
   "metadata": {},
   "outputs": [],
   "source": []
  }
 ],
 "metadata": {
  "interpreter": {
   "hash": "f5c7435bc3a0af7c2e50ff20f20879f4ae59d0d746704ca49b2ca7888dc9b87d"
  },
  "kernelspec": {
   "display_name": "Python 3.9.7 ('base')",
   "language": "python",
   "name": "python3"
  },
  "language_info": {
   "codemirror_mode": {
    "name": "ipython",
    "version": 3
   },
   "file_extension": ".py",
   "mimetype": "text/x-python",
   "name": "python",
   "nbconvert_exporter": "python",
   "pygments_lexer": "ipython3",
   "version": "3.9.7"
  },
  "orig_nbformat": 4
 },
 "nbformat": 4,
 "nbformat_minor": 2
}
