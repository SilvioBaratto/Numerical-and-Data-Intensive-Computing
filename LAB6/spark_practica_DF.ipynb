{
 "cells": [
  {
   "cell_type": "code",
   "execution_count": 1,
   "metadata": {},
   "outputs": [
    {
     "name": "stdout",
     "output_type": "stream",
     "text": [
      "22/12/09 18:49:35 WARN Utils: Your hostname, Tobiass-MacBook.local resolves to a loopback address: 127.0.0.1; using 10.27.90.105 instead (on interface en0)\n",
      "22/12/09 18:49:35 WARN Utils: Set SPARK_LOCAL_IP if you need to bind to another address\n"
     ]
    },
    {
     "name": "stderr",
     "output_type": "stream",
     "text": [
      "Setting default log level to \"WARN\".\n",
      "To adjust logging level use sc.setLogLevel(newLevel). For SparkR, use setLogLevel(newLevel).\n"
     ]
    },
    {
     "name": "stdout",
     "output_type": "stream",
     "text": [
      "22/12/09 18:49:36 WARN NativeCodeLoader: Unable to load native-hadoop library for your platform... using builtin-java classes where applicable\n"
     ]
    }
   ],
   "source": [
    "from pyspark import SparkContext\n",
    "from pyspark.sql.functions import countDistinct\n",
    "sc=SparkContext()"
   ]
  },
  {
   "cell_type": "code",
   "execution_count": 46,
   "metadata": {},
   "outputs": [],
   "source": [
    "from pyspark.sql import SparkSession\n",
    "from pyspark.sql.types import IntegerType\n",
    "from pyspark.sql.functions import col, bround\n",
    "spark = SparkSession.builder \\\n",
    "         .appName('SparkByExamples.com') \\\n",
    "         .getOrCreate()"
   ]
  },
  {
   "cell_type": "markdown",
   "metadata": {},
   "source": [
    "Pseude Code:\n",
    "\n",
    "agrupar por user, device, gt\n",
    "    para x, y, z sacar\n",
    "        median\n",
    "        desv\n",
    "        max\n",
    "        min\n",
    "\n",
    "join data from different datasets into RDDs\n",
    "Analize RDDs\n",
    "\n",
    "Don´t repeat code!\n",
    "avoid many (unnecessary) lines of code / repetitions"
   ]
  },
  {
   "cell_type": "code",
   "execution_count": 4,
   "metadata": {},
   "outputs": [
    {
     "name": "stderr",
     "output_type": "stream",
     "text": [
      "                                                                                \r"
     ]
    },
    {
     "name": "stdout",
     "output_type": "stream",
     "text": [
      "[Row(index='0', arrival_time='1424696633909', creation_time='1424696631914042029', x='0.013748169', y='-0.0006256103500000001', z='-0.023376465', user='a', model='nexus4', device='nexus4_1', activity='stand'), Row(index='1', arrival_time='1424696633909', creation_time='1424696631919046912', x='0.014816283999999999', y='-0.0016937256', z='-0.02230835', user='a', model='nexus4', device='nexus4_1', activity='stand'), Row(index='2', arrival_time='1424696633918', creation_time='1424696631924051794', x='0.0158844', y='-0.0016937256', z='-0.021240234', user='a', model='nexus4', device='nexus4_1', activity='stand'), Row(index='3', arrival_time='1424696633919', creation_time='1424696631929117712', x='0.016952515', y='-0.003829956', z='-0.02017212', user='a', model='nexus4', device='nexus4_1', activity='stand'), Row(index='4', arrival_time='1424696633928', creation_time='1424696631934214148', x='0.0158844', y='-0.007034301800000001', z='-0.02017212', user='a', model='nexus4', device='nexus4_1', activity='stand')]\n"
     ]
    }
   ],
   "source": [
    "columns = [\"index\", \"arrival_time\", \"creation_time\", \"x\", \"y\", \"z\", \"user\", \"model\", \"device\", \"activity\"]\n",
    "\n",
    "p_acc = sc.textFile('Phones_accelerometer.csv')\n",
    "pa = p_acc.map(lambda line: [x for x in line.split(',')]).toDF(columns)\n",
    "p_gyro = sc.textFile('Phones_gyroscope.csv')\n",
    "pg = p_gyro.map(lambda line: [x for x in line.split(',')]).toDF(columns)\n",
    "w_acc = sc.textFile('Watch_accelerometer.csv')\n",
    "wa = w_acc.map(lambda line: [x for x in line.split(',')]).toDF(columns)\n",
    "w_gyro = sc.textFile('Watch_gyroscope.csv')\n",
    "wg = w_gyro.map(lambda line: [x for x in line.split(',')]).toDF(columns)\n",
    "\n",
    "\n",
    "print(pg.take(5))"
   ]
  },
  {
   "cell_type": "code",
   "execution_count": 5,
   "metadata": {},
   "outputs": [
    {
     "name": "stdout",
     "output_type": "stream",
     "text": [
      "root\n",
      " |-- index: string (nullable = true)\n",
      " |-- arrival_time: string (nullable = true)\n",
      " |-- creation_time: string (nullable = true)\n",
      " |-- x: string (nullable = true)\n",
      " |-- y: string (nullable = true)\n",
      " |-- z: string (nullable = true)\n",
      " |-- user: string (nullable = true)\n",
      " |-- model: string (nullable = true)\n",
      " |-- device: string (nullable = true)\n",
      " |-- activity: string (nullable = true)\n",
      "\n",
      "+-----+-------------+-------------------+-------------------+------------------+-----------------+----+------+--------+--------+\n",
      "|index|arrival_time |creation_time      |x                  |y                 |z                |user|model |device  |activity|\n",
      "+-----+-------------+-------------------+-------------------+------------------+-----------------+----+------+--------+--------+\n",
      "|0    |1424696633908|1424696631913248572|-5.958191          |0.6880646         |8.135345         |a   |nexus4|nexus4_1|stand   |\n",
      "|1    |1424696633909|1424696631918283972|-5.95224           |0.6702118         |8.136536         |a   |nexus4|nexus4_1|stand   |\n",
      "|2    |1424696633918|1424696631923288855|-5.9950867         |0.6535491999999999|8.204376         |a   |nexus4|nexus4_1|stand   |\n",
      "|3    |1424696633919|1424696631928385290|-5.9427185         |0.6761626999999999|8.128204         |a   |nexus4|nexus4_1|stand   |\n",
      "|4    |1424696633929|1424696631933420691|-5.991516000000001 |0.64164734        |8.135345         |a   |nexus4|nexus4_1|stand   |\n",
      "|5    |1424696633929|1424696631938456091|-5.965332          |0.6297455         |8.128204         |a   |nexus4|nexus4_1|stand   |\n",
      "|6    |1424696633938|1424696631943522009|-5.991516000000001 |0.6356963999999999|8.16272          |a   |nexus4|nexus4_1|stand   |\n",
      "|7    |1424696633939|1424696631948496374|-5.915344          |0.63093567        |8.105591         |a   |nexus4|nexus4_1|stand   |\n",
      "|8    |1424696633951|1424696631953592810|-5.984375          |0.6940155         |8.067505         |a   |nexus4|nexus4_1|stand   |\n",
      "|9    |1424696633952|1424696631960428747|-5.937958          |0.71543884        |8.090117999999999|a   |nexus4|nexus4_1|stand   |\n",
      "|10   |1424696633959|1424696631963663611|-5.902252          |0.6678314000000001|8.069885000000001|a   |nexus4|nexus4_1|stand   |\n",
      "|11   |1424696633960|1424696631968912634|-5.9498596         |0.68092346        |8.119873         |a   |nexus4|nexus4_1|stand   |\n",
      "|12   |1424696633966|1424696631973734412|-5.9796143         |0.7416229         |8.0841675        |a   |nexus4|nexus4_1|stand   |\n",
      "|13   |1424696633972|1424696631978769812|-5.9617615         |0.71424866        |8.155579         |a   |nexus4|nexus4_1|stand   |\n",
      "|14   |1424696633978|1424696631983805212|-5.95343           |0.7130585         |8.153198         |a   |nexus4|nexus4_1|stand   |\n",
      "|15   |1424696633981|1424696631988840613|-5.8665465999999995|0.7344818000000001|8.10083          |a   |nexus4|nexus4_1|stand   |\n",
      "|16   |1424696633989|1424696631993876013|-5.9010620000000005|0.7582855         |8.081787         |a   |nexus4|nexus4_1|stand   |\n",
      "|17   |1424696633991|1424696631999064001|-5.8713074         |0.7190094         |8.192474         |a   |nexus4|nexus4_1|stand   |\n",
      "|18   |1424696634003|1424696632003946814|-5.932007          |0.67259216        |8.185333         |a   |nexus4|nexus4_1|stand   |\n",
      "|19   |1424696634004|1424696632010447058|-5.895111          |0.6797333000000001|8.132964999999999|a   |nexus4|nexus4_1|stand   |\n",
      "+-----+-------------+-------------------+-------------------+------------------+-----------------+----+------+--------+--------+\n",
      "only showing top 20 rows\n",
      "\n"
     ]
    }
   ],
   "source": [
    "pa.printSchema()\n",
    "pa.show(truncate=False)"
   ]
  },
  {
   "cell_type": "code",
   "execution_count": 7,
   "metadata": {},
   "outputs": [
    {
     "name": "stdout",
     "output_type": "stream",
     "text": [
      "+----+-----+------+--------+\n",
      "|user|model|device|activity|\n",
      "+----+-----+------+--------+\n",
      "|a   |gear |gear_1|stand   |\n",
      "+----+-----+------+--------+\n",
      "\n"
     ]
    }
   ],
   "source": [
    "dist_pa = pa.dropDuplicates([\"user\"]).select(\"user\", \"model\", \"device\", \"activity\")\n",
    "dist_pa.show(truncate=False)\n",
    "\n",
    "#print(df.dropDuplicates([\"salary\"]).select(\"salary\").collect())"
   ]
  },
  {
   "cell_type": "code",
   "execution_count": 33,
   "metadata": {},
   "outputs": [],
   "source": [
    "to_string = [\"x\", \"y\", \"z\"]"
   ]
  },
  {
   "cell_type": "code",
   "execution_count": 35,
   "metadata": {},
   "outputs": [
    {
     "name": "stdout",
     "output_type": "stream",
     "text": [
      "+----------+----------+---------+----+------+--------+\n",
      "|         x|         y|        z|user| model|activity|\n",
      "+----------+----------+---------+----+------+--------+\n",
      "| -5.958191| 0.6880646| 8.135345|   a|nexus4|   stand|\n",
      "|  -5.95224| 0.6702118| 8.136536|   a|nexus4|   stand|\n",
      "|-5.9950867| 0.6535492| 8.204376|   a|nexus4|   stand|\n",
      "|-5.9427185| 0.6761627| 8.128204|   a|nexus4|   stand|\n",
      "| -5.991516|0.64164734| 8.135345|   a|nexus4|   stand|\n",
      "| -5.965332| 0.6297455| 8.128204|   a|nexus4|   stand|\n",
      "| -5.991516| 0.6356964|  8.16272|   a|nexus4|   stand|\n",
      "| -5.915344|0.63093567| 8.105591|   a|nexus4|   stand|\n",
      "| -5.984375| 0.6940155| 8.067505|   a|nexus4|   stand|\n",
      "| -5.937958|0.71543884| 8.090118|   a|nexus4|   stand|\n",
      "| -5.902252| 0.6678314| 8.069885|   a|nexus4|   stand|\n",
      "|-5.9498596|0.68092346| 8.119873|   a|nexus4|   stand|\n",
      "|-5.9796143| 0.7416229|8.0841675|   a|nexus4|   stand|\n",
      "|-5.9617615|0.71424866| 8.155579|   a|nexus4|   stand|\n",
      "|  -5.95343| 0.7130585| 8.153198|   a|nexus4|   stand|\n",
      "|-5.8665466| 0.7344818|  8.10083|   a|nexus4|   stand|\n",
      "| -5.901062| 0.7582855| 8.081787|   a|nexus4|   stand|\n",
      "|-5.8713074| 0.7190094| 8.192474|   a|nexus4|   stand|\n",
      "| -5.932007|0.67259216| 8.185333|   a|nexus4|   stand|\n",
      "| -5.895111| 0.6797333| 8.132965|   a|nexus4|   stand|\n",
      "+----------+----------+---------+----+------+--------+\n",
      "only showing top 20 rows\n",
      "\n"
     ]
    }
   ],
   "source": [
    "pa_xyz = pa.drop(\"index\", \"arrival_time\", \"creation_time\", \"device\")\n",
    "for column in to_string:\n",
    "    pa_xyz = pa_xyz.withColumn(column, col(column).cast('float'))\n",
    "pa_xyz.show()\n"
   ]
  },
  {
   "cell_type": "code",
   "execution_count": 18,
   "metadata": {},
   "outputs": [],
   "source": [
    "key = [\"user\", \"model\", \"activity\"]"
   ]
  },
  {
   "cell_type": "code",
   "execution_count": 36,
   "metadata": {},
   "outputs": [
    {
     "name": "stdout",
     "output_type": "stream",
     "text": [
      "+----+------+--------+------------------+------------------+----------------+\n",
      "|user| model|activity|            avg(x)|            avg(y)|          avg(z)|\n",
      "+----+------+--------+------------------+------------------+----------------+\n",
      "|   a|nexus4|   stand|-6.026499951171875|0.9334959503173829|8.01364601135254|\n",
      "+----+------+--------+------------------+------------------+----------------+\n",
      "\n"
     ]
    }
   ],
   "source": [
    "\n",
    "avg = pa_xyz.groupBy(key).agg({\"x\":\"avg\", \"y\":\"avg\", \"z\":\"avg\"})\n",
    "avg.show()"
   ]
  },
  {
   "cell_type": "code",
   "execution_count": 37,
   "metadata": {},
   "outputs": [
    {
     "name": "stdout",
     "output_type": "stream",
     "text": [
      "+----+------+--------+-------------------+-------------------+------------------+\n",
      "|user| model|activity|          stddev(x)|          stddev(y)|         stddev(z)|\n",
      "+----+------+--------+-------------------+-------------------+------------------+\n",
      "|   a|nexus4|   stand|0.18456097451689352|0.24044618117892705|0.1760086615510722|\n",
      "+----+------+--------+-------------------+-------------------+------------------+\n",
      "\n"
     ]
    }
   ],
   "source": [
    "std = pa_xyz.groupBy(key).agg({\"x\":\"stddev\", \"y\":\"stddev\", \"z\":\"stddev\"})\n",
    "std.show()"
   ]
  },
  {
   "cell_type": "code",
   "execution_count": 40,
   "metadata": {},
   "outputs": [
    {
     "name": "stdout",
     "output_type": "stream",
     "text": [
      "+----+------+--------+----------+---------+--------+\n",
      "|user| model|activity|    max(x)|   max(y)|  max(z)|\n",
      "+----+------+--------+----------+---------+--------+\n",
      "|   a|nexus4|   stand|-5.5202026|1.9472809|8.638794|\n",
      "+----+------+--------+----------+---------+--------+\n",
      "\n"
     ]
    }
   ],
   "source": [
    "max = pa_xyz.groupBy(key).agg({\"x\":\"max\", \"y\":\"max\", \"z\":\"max\"})\n",
    "max.show()"
   ]
  },
  {
   "cell_type": "code",
   "execution_count": 42,
   "metadata": {},
   "outputs": [
    {
     "name": "stdout",
     "output_type": "stream",
     "text": [
      "+----+------+--------+----------+-----------+--------+\n",
      "|user| model|activity|    min(x)|     min(y)|  min(z)|\n",
      "+----+------+--------+----------+-----------+--------+\n",
      "|   a|nexus4|   stand|-7.0448303|-0.84251404|7.149872|\n",
      "+----+------+--------+----------+-----------+--------+\n",
      "\n"
     ]
    }
   ],
   "source": [
    "min = pa_xyz.groupBy(key).agg({\"x\":\"min\", \"y\":\"min\", \"z\":\"min\"})\n",
    "min.show()"
   ]
  },
  {
   "cell_type": "code",
   "execution_count": 49,
   "metadata": {},
   "outputs": [
    {
     "name": "stdout",
     "output_type": "stream",
     "text": [
      "+----+------+--------+------------------+------------------+----------------+-------------------+-------------------+------------------+----------+---------+--------+----------+-----------+--------+\n",
      "|user| model|activity|            avg(x)|            avg(y)|          avg(z)|          stddev(x)|          stddev(y)|         stddev(z)|    max(x)|   max(y)|  max(z)|    min(x)|     min(y)|  min(z)|\n",
      "+----+------+--------+------------------+------------------+----------------+-------------------+-------------------+------------------+----------+---------+--------+----------+-----------+--------+\n",
      "|   a|nexus4|   stand|-6.026499951171875|0.9334959503173829|8.01364601135254|0.18456097451689352|0.24044618117892705|0.1760086615510722|-5.5202026|1.9472809|8.638794|-7.0448303|-0.84251404|7.149872|\n",
      "+----+------+--------+------------------+------------------+----------------+-------------------+-------------------+------------------+----------+---------+--------+----------+-----------+--------+\n",
      "\n",
      "22/12/09 22:39:46 WARN HeartbeatReceiver: Removing executor driver with no recent heartbeats: 959788 ms exceeds timeout 120000 ms\n",
      "22/12/09 22:39:46 WARN SparkContext: Killing executors is not supported by current scheduler.\n"
     ]
    }
   ],
   "source": [
    "out = avg.join(std,key).join(max, key).join(min, key)\n",
    "out.show()"
   ]
  },
  {
   "cell_type": "code",
   "execution_count": 53,
   "metadata": {},
   "outputs": [
    {
     "name": "stdout",
     "output_type": "stream",
     "text": [
      "+----+------+--------+----------+-----------+--------+\n",
      "|user| model|activity|    min(x)|     min(y)|  min(z)|\n",
      "+----+------+--------+----------+-----------+--------+\n",
      "|   a|nexus4|   stand|-7.0448303|-0.84251404|7.149872|\n",
      "+----+------+--------+----------+-----------+--------+\n",
      "\n"
     ]
    }
   ],
   "source": [
    "end = pa_xyz.groupBy(key).agg({\"x\":\"avg\", \"y\":\"avg\", \"z\":\"avg\", \"x\":\"stddev\", \"y\":\"stddev\", \"z\":\"stddev\", \"x\":\"max\", \"y\":\"max\", \"z\":\"max\", \"x\":\"min\", \"y\":\"min\", \"z\":\"min\"})\n",
    "end.show()"
   ]
  },
  {
   "cell_type": "code",
   "execution_count": null,
   "metadata": {},
   "outputs": [],
   "source": []
  }
 ],
 "metadata": {
  "interpreter": {
   "hash": "f5c7435bc3a0af7c2e50ff20f20879f4ae59d0d746704ca49b2ca7888dc9b87d"
  },
  "kernelspec": {
   "display_name": "Python 3.9.7 ('base')",
   "language": "python",
   "name": "python3"
  },
  "language_info": {
   "codemirror_mode": {
    "name": "ipython",
    "version": 3
   },
   "file_extension": ".py",
   "mimetype": "text/x-python",
   "name": "python",
   "nbconvert_exporter": "python",
   "pygments_lexer": "ipython3",
   "version": "3.9.7"
  },
  "orig_nbformat": 4
 },
 "nbformat": 4,
 "nbformat_minor": 2
}
