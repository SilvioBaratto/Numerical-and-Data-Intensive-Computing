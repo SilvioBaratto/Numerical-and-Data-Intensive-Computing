{
 "cells": [
  {
   "cell_type": "code",
   "execution_count": 1,
   "metadata": {},
   "outputs": [
    {
     "name": "stdout",
     "output_type": "stream",
     "text": [
      "22/12/27 11:36:25 WARN Utils: Your hostname, pop-os resolves to a loopback address: 127.0.1.1; using 192.168.1.36 instead (on interface wlp0s20f3)\n",
      "22/12/27 11:36:25 WARN Utils: Set SPARK_LOCAL_IP if you need to bind to another address\n"
     ]
    },
    {
     "name": "stderr",
     "output_type": "stream",
     "text": [
      "Setting default log level to \"WARN\".\n",
      "To adjust logging level use sc.setLogLevel(newLevel). For SparkR, use setLogLevel(newLevel).\n"
     ]
    },
    {
     "name": "stdout",
     "output_type": "stream",
     "text": [
      "22/12/27 11:36:25 WARN NativeCodeLoader: Unable to load native-hadoop library for your platform... using builtin-java classes where applicable\n"
     ]
    }
   ],
   "source": [
    "from pyspark.sql import SparkSession\n",
    "from pyspark import SparkContext\n",
    "\n",
    "spark = SparkSession \\\n",
    "    .builder \\\n",
    "    .appName(\"Python Spark SQL basic example\") \\\n",
    "    .config(\"spark.some.config.option\", \"some-value\") \\\n",
    "    .getOrCreate()"
   ]
  },
  {
   "cell_type": "code",
   "execution_count": 28,
   "metadata": {},
   "outputs": [],
   "source": [
    "import time\n",
    "import os\n",
    "import math"
   ]
  },
  {
   "cell_type": "code",
   "execution_count": 3,
   "metadata": {},
   "outputs": [],
   "source": [
    "from pyspark.sql.functions import concat,col, concat_ws"
   ]
  },
  {
   "attachments": {},
   "cell_type": "markdown",
   "metadata": {},
   "source": [
    "### Reading as csv"
   ]
  },
  {
   "cell_type": "code",
   "execution_count": 33,
   "metadata": {},
   "outputs": [
    {
     "data": {
      "text/plain": [
       "'0.097ms'"
      ]
     },
     "execution_count": 33,
     "metadata": {},
     "output_type": "execute_result"
    }
   ],
   "source": [
    "pa_start = time.time()\n",
    "pa = spark.read.csv('small_data/Phones_accelerometer.csv')\n",
    "pa_end = time.time()\n",
    "pg_start = time.time()\n",
    "pg = spark.read.csv('small_data/Phones_gyroscope.csv')\n",
    "pg_end = time.time()\n",
    "wa_start = time.time()\n",
    "wa = spark.read.csv('small_data/Watch_accelerometer.csv')\n",
    "wa_end = time.time()\n",
    "wg_start = time.time()\n",
    "wg = spark.read.csv('small_data/Watch_gyroscope.csv')\n",
    "wg_end = time.time()\n",
    "end = time.time()\n",
    "\n",
    "pa_time_csv = str(round(pa_end - pa_start, 3)) + \"ms\"\n",
    "pg_time_csv = str(round(pg_end - pg_start, 3)) + \"ms\"\n",
    "wa_time_csv = str(round(wa_end - wa_start, 3)) + \"ms\"\n",
    "wg_time_csv = str(round(wg_end - wg_start, 3)) + \"ms\"\n",
    "\n",
    "pa_time_csv"
   ]
  },
  {
   "attachments": {},
   "cell_type": "markdown",
   "metadata": {},
   "source": [
    "### Writing as parquet"
   ]
  },
  {
   "cell_type": "code",
   "execution_count": 32,
   "metadata": {},
   "outputs": [
    {
     "ename": "AnalysisException",
     "evalue": "path file:/home/silvio/OneDrive/Università/Magistrale/2022_2023/Calculo_intensivo_y_manejo_de_datos_a_gran_escala/Numerical-and-Data-Intensive-Computing/LAB_6/LAB/small_data/Phones_accelerometer.parquet already exists.",
     "output_type": "error",
     "traceback": [
      "\u001b[0;31m---------------------------------------------------------------------------\u001b[0m",
      "\u001b[0;31mAnalysisException\u001b[0m                         Traceback (most recent call last)",
      "\u001b[1;32m/home/silvio/OneDrive/Università/Magistrale/2022_2023/Calculo_intensivo_y_manejo_de_datos_a_gran_escala/Numerical-and-Data-Intensive-Computing/LAB_6/LAB/lab_6.ipynb Cell 7\u001b[0m in \u001b[0;36m<cell line: 2>\u001b[0;34m()\u001b[0m\n\u001b[1;32m      <a href='vscode-notebook-cell:/home/silvio/OneDrive/Universit%C3%A0/Magistrale/2022_2023/Calculo_intensivo_y_manejo_de_datos_a_gran_escala/Numerical-and-Data-Intensive-Computing/LAB_6/LAB/lab_6.ipynb#X14sZmlsZQ%3D%3D?line=0'>1</a>\u001b[0m pa_start \u001b[39m=\u001b[39m time\u001b[39m.\u001b[39mtime()\n\u001b[0;32m----> <a href='vscode-notebook-cell:/home/silvio/OneDrive/Universit%C3%A0/Magistrale/2022_2023/Calculo_intensivo_y_manejo_de_datos_a_gran_escala/Numerical-and-Data-Intensive-Computing/LAB_6/LAB/lab_6.ipynb#X14sZmlsZQ%3D%3D?line=1'>2</a>\u001b[0m pa\u001b[39m.\u001b[39;49mwrite\u001b[39m.\u001b[39;49mparquet(\u001b[39m\"\u001b[39;49m\u001b[39msmall_data/Phones_accelerometer.parquet\u001b[39;49m\u001b[39m\"\u001b[39;49m) \n\u001b[1;32m      <a href='vscode-notebook-cell:/home/silvio/OneDrive/Universit%C3%A0/Magistrale/2022_2023/Calculo_intensivo_y_manejo_de_datos_a_gran_escala/Numerical-and-Data-Intensive-Computing/LAB_6/LAB/lab_6.ipynb#X14sZmlsZQ%3D%3D?line=2'>3</a>\u001b[0m pa_end \u001b[39m=\u001b[39m time\u001b[39m.\u001b[39mtime()\n\u001b[1;32m      <a href='vscode-notebook-cell:/home/silvio/OneDrive/Universit%C3%A0/Magistrale/2022_2023/Calculo_intensivo_y_manejo_de_datos_a_gran_escala/Numerical-and-Data-Intensive-Computing/LAB_6/LAB/lab_6.ipynb#X14sZmlsZQ%3D%3D?line=3'>4</a>\u001b[0m pg_start \u001b[39m=\u001b[39m time\u001b[39m.\u001b[39mtime()\n",
      "File \u001b[0;32m~/anaconda3/lib/python3.9/site-packages/pyspark/sql/readwriter.py:1140\u001b[0m, in \u001b[0;36mDataFrameWriter.parquet\u001b[0;34m(self, path, mode, partitionBy, compression)\u001b[0m\n\u001b[1;32m   1138\u001b[0m     \u001b[39mself\u001b[39m\u001b[39m.\u001b[39mpartitionBy(partitionBy)\n\u001b[1;32m   1139\u001b[0m \u001b[39mself\u001b[39m\u001b[39m.\u001b[39m_set_opts(compression\u001b[39m=\u001b[39mcompression)\n\u001b[0;32m-> 1140\u001b[0m \u001b[39mself\u001b[39;49m\u001b[39m.\u001b[39;49m_jwrite\u001b[39m.\u001b[39;49mparquet(path)\n",
      "File \u001b[0;32m~/anaconda3/lib/python3.9/site-packages/py4j/java_gateway.py:1321\u001b[0m, in \u001b[0;36mJavaMember.__call__\u001b[0;34m(self, *args)\u001b[0m\n\u001b[1;32m   1315\u001b[0m command \u001b[39m=\u001b[39m proto\u001b[39m.\u001b[39mCALL_COMMAND_NAME \u001b[39m+\u001b[39m\\\n\u001b[1;32m   1316\u001b[0m     \u001b[39mself\u001b[39m\u001b[39m.\u001b[39mcommand_header \u001b[39m+\u001b[39m\\\n\u001b[1;32m   1317\u001b[0m     args_command \u001b[39m+\u001b[39m\\\n\u001b[1;32m   1318\u001b[0m     proto\u001b[39m.\u001b[39mEND_COMMAND_PART\n\u001b[1;32m   1320\u001b[0m answer \u001b[39m=\u001b[39m \u001b[39mself\u001b[39m\u001b[39m.\u001b[39mgateway_client\u001b[39m.\u001b[39msend_command(command)\n\u001b[0;32m-> 1321\u001b[0m return_value \u001b[39m=\u001b[39m get_return_value(\n\u001b[1;32m   1322\u001b[0m     answer, \u001b[39mself\u001b[39;49m\u001b[39m.\u001b[39;49mgateway_client, \u001b[39mself\u001b[39;49m\u001b[39m.\u001b[39;49mtarget_id, \u001b[39mself\u001b[39;49m\u001b[39m.\u001b[39;49mname)\n\u001b[1;32m   1324\u001b[0m \u001b[39mfor\u001b[39;00m temp_arg \u001b[39min\u001b[39;00m temp_args:\n\u001b[1;32m   1325\u001b[0m     temp_arg\u001b[39m.\u001b[39m_detach()\n",
      "File \u001b[0;32m~/anaconda3/lib/python3.9/site-packages/pyspark/sql/utils.py:196\u001b[0m, in \u001b[0;36mcapture_sql_exception.<locals>.deco\u001b[0;34m(*a, **kw)\u001b[0m\n\u001b[1;32m    192\u001b[0m converted \u001b[39m=\u001b[39m convert_exception(e\u001b[39m.\u001b[39mjava_exception)\n\u001b[1;32m    193\u001b[0m \u001b[39mif\u001b[39;00m \u001b[39mnot\u001b[39;00m \u001b[39misinstance\u001b[39m(converted, UnknownException):\n\u001b[1;32m    194\u001b[0m     \u001b[39m# Hide where the exception came from that shows a non-Pythonic\u001b[39;00m\n\u001b[1;32m    195\u001b[0m     \u001b[39m# JVM exception message.\u001b[39;00m\n\u001b[0;32m--> 196\u001b[0m     \u001b[39mraise\u001b[39;00m converted \u001b[39mfrom\u001b[39;00m \u001b[39mNone\u001b[39m\n\u001b[1;32m    197\u001b[0m \u001b[39melse\u001b[39;00m:\n\u001b[1;32m    198\u001b[0m     \u001b[39mraise\u001b[39;00m\n",
      "\u001b[0;31mAnalysisException\u001b[0m: path file:/home/silvio/OneDrive/Università/Magistrale/2022_2023/Calculo_intensivo_y_manejo_de_datos_a_gran_escala/Numerical-and-Data-Intensive-Computing/LAB_6/LAB/small_data/Phones_accelerometer.parquet already exists."
     ]
    }
   ],
   "source": [
    "pa_start = time.time()\n",
    "pa.write.parquet(\"small_data/Phones_accelerometer.parquet\") \n",
    "pa_end = time.time()\n",
    "pg_start = time.time()\n",
    "pg.write.parquet(\"small_data/Phones_gyroscope.parquet\") \n",
    "pg_end = time.time()\n",
    "wa_start = time.time()\n",
    "wa.write.parquet(\"small_data/Watch_accelerometer.parquet\") \n",
    "wa_end = time.time()\n",
    "wg_start = time.time()\n",
    "wg.write.parquet(\"small_data/Watch_gyroscope.parquet\") \n",
    "wg_end = time.time()\n",
    "end = time.time()\n",
    "\n",
    "pa_time_wr_par = str(round(pa_end - pa_start, 3)) + \"ms\"\n",
    "pg_time_wr_par = str(round(pg_end - pg_start, 3)) + \"ms\"\n",
    "wa_time_wr_par = str(round(wa_end - wa_start, 3)) + \"ms\"\n",
    "wg_time_wr_par = str(round(wg_end - wg_start, 3)) + \"ms\""
   ]
  },
  {
   "attachments": {},
   "cell_type": "markdown",
   "metadata": {},
   "source": [
    "### Reading as parquet"
   ]
  },
  {
   "cell_type": "code",
   "execution_count": 31,
   "metadata": {},
   "outputs": [
    {
     "data": {
      "text/plain": [
       "'0.047ms'"
      ]
     },
     "execution_count": 31,
     "metadata": {},
     "output_type": "execute_result"
    }
   ],
   "source": [
    "pa_start = time.time()\n",
    "pa =spark.read.parquet(\"small_data/Phones_accelerometer.parquet\")\n",
    "pa_end = time.time()\n",
    "pg_start = time.time()\n",
    "pg =spark.read.parquet(\"small_data/Phones_gyroscope.parquet\")\n",
    "pg_end = time.time()\n",
    "wa_start = time.time()\n",
    "wa =spark.read.parquet(\"small_data/Watch_accelerometer.parquet\")\n",
    "wa_end = time.time()\n",
    "wg_start = time.time()\n",
    "wg =spark.read.parquet(\"small_data/Watch_gyroscope.parquet\")\n",
    "wg_end = time.time()\n",
    "end = time.time()\n",
    "\n",
    "pa_time_par = str(round(pa_end - pa_start, 3)) + \"ms\"\n",
    "pg_time_par = str(round(pg_end - pg_start, 3)) + \"ms\"\n",
    "wa_time_par = str(round(wa_end - wa_start, 3)) + \"ms\"\n",
    "wg_time_par = str(round(wg_end - wg_start, 3)) + \"ms\"\n",
    "\n",
    "pa_time_par"
   ]
  },
  {
   "attachments": {},
   "cell_type": "markdown",
   "metadata": {},
   "source": [
    "### Reading as RDD"
   ]
  },
  {
   "cell_type": "code",
   "execution_count": null,
   "metadata": {},
   "outputs": [
    {
     "ename": "AttributeError",
     "evalue": "'SparkSession' object has no attribute 'textFile'",
     "output_type": "error",
     "traceback": [
      "\u001b[0;31m---------------------------------------------------------------------------\u001b[0m",
      "\u001b[0;31mAttributeError\u001b[0m                            Traceback (most recent call last)",
      "\u001b[1;32m/home/silvio/OneDrive/Università/Magistrale/2022_2023/Calculo_intensivo_y_manejo_de_datos_a_gran_escala/Numerical-and-Data-Intensive-Computing/LAB_6/LAB/lab_6.ipynb Cell 10\u001b[0m in \u001b[0;36m<cell line: 1>\u001b[0;34m()\u001b[0m\n\u001b[0;32m----> <a href='vscode-notebook-cell:/home/silvio/OneDrive/Universit%C3%A0/Magistrale/2022_2023/Calculo_intensivo_y_manejo_de_datos_a_gran_escala/Numerical-and-Data-Intensive-Computing/LAB_6/LAB/lab_6.ipynb#X22sZmlsZQ%3D%3D?line=0'>1</a>\u001b[0m pa \u001b[39m=\u001b[39m spark\u001b[39m.\u001b[39;49mtextFile(\u001b[39m'\u001b[39m\u001b[39mPhones_accelerometer.csv\u001b[39m\u001b[39m'\u001b[39m)\n\u001b[1;32m      <a href='vscode-notebook-cell:/home/silvio/OneDrive/Universit%C3%A0/Magistrale/2022_2023/Calculo_intensivo_y_manejo_de_datos_a_gran_escala/Numerical-and-Data-Intensive-Computing/LAB_6/LAB/lab_6.ipynb#X22sZmlsZQ%3D%3D?line=1'>2</a>\u001b[0m pg \u001b[39m=\u001b[39m spark\u001b[39m.\u001b[39mtextFile(\u001b[39m'\u001b[39m\u001b[39mPhones_gyroscope.csv\u001b[39m\u001b[39m'\u001b[39m)\n\u001b[1;32m      <a href='vscode-notebook-cell:/home/silvio/OneDrive/Universit%C3%A0/Magistrale/2022_2023/Calculo_intensivo_y_manejo_de_datos_a_gran_escala/Numerical-and-Data-Intensive-Computing/LAB_6/LAB/lab_6.ipynb#X22sZmlsZQ%3D%3D?line=2'>3</a>\u001b[0m wa \u001b[39m=\u001b[39m spark\u001b[39m.\u001b[39mtextFile(\u001b[39m'\u001b[39m\u001b[39mWatch_accelerometer.csv\u001b[39m\u001b[39m'\u001b[39m)\n",
      "\u001b[0;31mAttributeError\u001b[0m: 'SparkSession' object has no attribute 'textFile'"
     ]
    }
   ],
   "source": [
    "pa_start = time.time()\n",
    "pa = spark.textFile('small_data/Phones_accelerometer.csv')\n",
    "pa_end = time.time()\n",
    "pg_start = time.time()\n",
    "pg = spark.textFile('small_data/Phones_gyroscope.csv')\n",
    "pg_end = time.time()\n",
    "wa_start = time.time()\n",
    "wa = spark.textFile('small_data/Watch_accelerometer.csv')\n",
    "wa_end = time.time()\n",
    "wg_start = time.time()\n",
    "wg = spark.textFile('small_data/Watch_gyroscope.csv')\n",
    "wg_end = time.time()\n",
    "end = time.time()\n",
    "\n",
    "pa_time_par = str(round(pa_end - pa_start, 3)) + \"ms\"\n",
    "pg_time_par = str(round(pg_end - pg_start, 3)) + \"ms\"\n",
    "wa_time_par = str(round(wa_end - wa_start, 3)) + \"ms\"\n",
    "wg_time_par = str(round(wg_end - wg_start, 3)) + \"ms\"\n",
    "\n",
    "pa_time_par"
   ]
  },
  {
   "cell_type": "code",
   "execution_count": 23,
   "metadata": {},
   "outputs": [],
   "source": [
    "def get_size(filename):\n",
    "    file_stats = os.stat(filename)\n",
    "    return str(round(file_stats.st_size / (1024 * 1024), 4)) + \"MB\""
   ]
  },
  {
   "cell_type": "code",
   "execution_count": 24,
   "metadata": {},
   "outputs": [],
   "source": [
    "pa_csv_size = get_size('small_data/Phones_accelerometer.csv')\n",
    "pg_csv_size = get_size('small_data/Phones_gyroscope.csv')\n",
    "wa_csv_size = get_size('small_data/Watch_accelerometer.csv')\n",
    "wg_csv_size = get_size('small_data/Watch_gyroscope.csv')\n",
    "pa_par_size = get_size(\"small_data/Phones_accelerometer.parquet\")\n",
    "pg_par_size = get_size(\"small_data/Phones_gyroscope.parquet\")\n",
    "wa_par_size = get_size(\"small_data/Watch_accelerometer.parquet\")\n",
    "wg_par_size = get_size(\"small_data/Watch_gyroscope.parquet\")\n"
   ]
  },
  {
   "cell_type": "code",
   "execution_count": 36,
   "metadata": {},
   "outputs": [
    {
     "name": "stdout",
     "output_type": "stream",
     "text": [
      "+-----------------+--------+------------+--------+------------+\n",
      "|        File name|Size csv|Size parquet|Time csv|Time parquet|\n",
      "+-----------------+--------+------------+--------+------------+\n",
      "|Phone accelometer|0.9513MB|    0.0039MB| 0.097ms|     0.047ms|\n",
      "|  Phone gyroscope|1.0497MB|    0.0039MB| 0.046ms|     0.046ms|\n",
      "|Watch accelometer|0.8037MB|    0.0039MB| 0.088ms|     0.038ms|\n",
      "|  Watch gyroscope|0.8533MB|    0.0039MB| 0.118ms|     0.052ms|\n",
      "+-----------------+--------+------------+--------+------------+\n",
      "\n"
     ]
    }
   ],
   "source": [
    "data = [{\"File name\": 'Phone accelometer',  \"Time csv\": pa_time_csv, \"Time parquet\": pa_time_par, \"Size csv\": pa_csv_size, \"Size parquet\": pa_par_size},\n",
    "        {\"File name\": 'Phone gyroscope',    \"Time csv\": pg_time_par, \"Time parquet\": pg_time_par,\"Size csv\": pg_csv_size, \"Size parquet\": pg_par_size},\n",
    "        {\"File name\": 'Watch accelometer',  \"Time csv\": wa_time_csv, \"Time parquet\": wa_time_par,\"Size csv\": wa_csv_size, \"Size parquet\": wa_par_size},\n",
    "        {\"File name\": 'Watch gyroscope',    \"Time csv\": wg_time_csv, \"Time parquet\": wg_time_par,\"Size csv\": wg_csv_size, \"Size parquet\": wg_par_size},\n",
    "        ]\n",
    "\n",
    "df = spark.createDataFrame(data)\n",
    "df.show()"
   ]
  }
 ],
 "metadata": {
  "kernelspec": {
   "display_name": "base",
   "language": "python",
   "name": "python3"
  },
  "language_info": {
   "codemirror_mode": {
    "name": "ipython",
    "version": 3
   },
   "file_extension": ".py",
   "mimetype": "text/x-python",
   "name": "python",
   "nbconvert_exporter": "python",
   "pygments_lexer": "ipython3",
   "version": "3.9.12 (main, Apr  5 2022, 06:56:58) \n[GCC 7.5.0]"
  },
  "orig_nbformat": 4,
  "vscode": {
   "interpreter": {
    "hash": "8fadc5f936274309d5ca82691dfd61f89474af03c6ebe71b05790b9d22fb5245"
   }
  }
 },
 "nbformat": 4,
 "nbformat_minor": 2
}
