{
 "cells": [
  {
   "cell_type": "code",
   "execution_count": 21,
   "metadata": {},
   "outputs": [],
   "source": [
    "from pyspark.sql import SparkSession\n",
    "from pyspark import SparkContext\n",
    "import numpy as np\n",
    "import pandas as pd\n",
    "from pyspark.sql import Row\n",
    "\n",
    "spark = SparkSession \\\n",
    "    .builder \\\n",
    "    .appName(\"Python Spark SQL basic example\") \\\n",
    "    .config(\"spark.some.config.option\", \"some-value\") \\\n",
    "    .getOrCreate()\n",
    "    \n",
    "sc = spark.sparkContext"
   ]
  },
  {
   "cell_type": "code",
   "execution_count": 2,
   "metadata": {},
   "outputs": [],
   "source": [
    "from pyspark.sql import functions as f"
   ]
  },
  {
   "cell_type": "code",
   "execution_count": 3,
   "metadata": {},
   "outputs": [],
   "source": [
    "books = spark.read.csv('csv_dump/BX-CSV-Dump/books.csv', sep='\";\"', header=True)\n",
    "books = books.drop('Image-URL-M', 'Image-URL-S', 'Image-URL-L\"\"')\n",
    "books = books.withColumnRenamed('\"ISBN', 'ISBN') \\\n",
    "                .withColumnRenamed('Book-Author', 'Book_Author') \\\n",
    "                .withColumnRenamed('Year-Of-Publication', 'Year_of_Publication') \\\n",
    "                .withColumnRenamed('Book-Title', 'Book_Title')\n",
    "\n",
    "books = books.withColumn('ISBN', f.regexp_replace('ISBN', '\"', ''))\n",
    "books = books.withColumn('Publisher', f.regexp_replace('Publisher', '\"\"', '')) \n",
    "\n",
    "users = spark.read.csv('csv_dump/BX-CSV-Dump/users.csv', sep='\";\"', header=True)\n",
    "users = users.withColumnRenamed('\"User-ID', 'User_ID').withColumnRenamed('Age\"\"', 'Age')\n",
    "users = users.withColumn('User_ID', f.regexp_replace('User_ID', '\"', '')).withColumn('Age', f.regexp_replace('Age', '\"\"', ''))\n",
    "\n",
    "ratings = spark.read.csv('csv_dump/BX-CSV-Dump/ratings.csv',sep='\";\"', header=True)\n",
    "ratings = ratings.withColumnRenamed('\"User-ID', 'User_ID')  \\\n",
    "                    .withColumnRenamed('Book-Rating\"\"', 'Rating')\n",
    "ratings = ratings.withColumn('User_ID', f.regexp_replace('User_ID', '\"', '')) \\\n",
    "                    .withColumn('Rating', f.regexp_replace('Rating', '\"\"', '')) "
   ]
  },
  {
   "cell_type": "code",
   "execution_count": 4,
   "metadata": {},
   "outputs": [
    {
     "name": "stdout",
     "output_type": "stream",
     "text": [
      "+-------+--------------------+----+\n",
      "|User_ID|            Location| Age|\n",
      "+-------+--------------------+----+\n",
      "|      1|nyc, new york, us...|null|\n",
      "|      2|stockton, califor...|  18|\n",
      "|      3|moscow, yukon ter...|null|\n",
      "|      4|porto, v.n.gaia, ...|  17|\n",
      "|      5|farnborough, hant...|null|\n",
      "+-------+--------------------+----+\n",
      "only showing top 5 rows\n",
      "\n"
     ]
    }
   ],
   "source": [
    "users.show(5)"
   ]
  },
  {
   "cell_type": "code",
   "execution_count": 5,
   "metadata": {},
   "outputs": [
    {
     "name": "stdout",
     "output_type": "stream",
     "text": [
      "+----------+--------------------+--------------------+-------------------+--------------------+\n",
      "|      ISBN|          Book_Title|         Book_Author|Year_of_Publication|           Publisher|\n",
      "+----------+--------------------+--------------------+-------------------+--------------------+\n",
      "|0195153448| Classical Mythology|  Mark P. O. Morford|               2002|Oxford University...|\n",
      "|0002005018|        Clara Callan|Richard Bruce Wright|               2001|HarperFlamingo Ca...|\n",
      "|0060973129|Decision in Normandy|        Carlo D'Este|               1991|     HarperPerennial|\n",
      "|0374157065|Flu: The Story of...|    Gina Bari Kolata|               1999|Farrar Straus Giroux|\n",
      "|0393045218|The Mummies of Ur...|     E. J. W. Barber|               1999|W. W. Norton &amp...|\n",
      "+----------+--------------------+--------------------+-------------------+--------------------+\n",
      "only showing top 5 rows\n",
      "\n"
     ]
    }
   ],
   "source": [
    "books.show(5)"
   ]
  },
  {
   "cell_type": "code",
   "execution_count": 6,
   "metadata": {},
   "outputs": [
    {
     "name": "stdout",
     "output_type": "stream",
     "text": [
      "+-------+----------+------+\n",
      "|User_ID|      ISBN|Rating|\n",
      "+-------+----------+------+\n",
      "| 276725|034545104X|     0|\n",
      "| 276726|0155061224|     5|\n",
      "| 276727|0446520802|     0|\n",
      "| 276729|052165615X|     3|\n",
      "| 276729|0521795028|     6|\n",
      "+-------+----------+------+\n",
      "only showing top 5 rows\n",
      "\n"
     ]
    }
   ],
   "source": [
    "ratings.show(5)"
   ]
  },
  {
   "cell_type": "code",
   "execution_count": 7,
   "metadata": {},
   "outputs": [],
   "source": [
    "ratings.createOrReplaceTempView(\"ratings\")\n",
    "books.createOrReplaceTempView(\"books\")\n",
    "users.createOrReplaceTempView(\"users\")"
   ]
  },
  {
   "attachments": {},
   "cell_type": "markdown",
   "metadata": {},
   "source": [
    "## Task 1"
   ]
  },
  {
   "attachments": {},
   "cell_type": "markdown",
   "metadata": {},
   "source": [
    "#### Lista de usuarios junto con el número de libros que han valorado"
   ]
  },
  {
   "cell_type": "code",
   "execution_count": 8,
   "metadata": {},
   "outputs": [
    {
     "name": "stderr",
     "output_type": "stream",
     "text": [
      "[Stage 6:==============>                                            (2 + 6) / 8]\r"
     ]
    },
    {
     "name": "stdout",
     "output_type": "stream",
     "text": [
      "+-------+------+\n",
      "|User_ID|Libros|\n",
      "+-------+------+\n",
      "|     10|     2|\n",
      "|    100|     1|\n",
      "|   1000|     1|\n",
      "| 100001|     1|\n",
      "| 100002|     1|\n",
      "+-------+------+\n",
      "only showing top 5 rows\n",
      "\n"
     ]
    },
    {
     "name": "stderr",
     "output_type": "stream",
     "text": [
      "                                                                                \r"
     ]
    }
   ],
   "source": [
    "libros_valorados = ratings.groupBy(ratings[\"User_ID\"]) \\\n",
    "                            .agg(f.count(\"User_ID\").alias(\"Libros\")) \\\n",
    "                            .sort(f.asc(\"User_ID\")) \n",
    "\n",
    "libros_valorados.show(5)"
   ]
  },
  {
   "cell_type": "code",
   "execution_count": 9,
   "metadata": {},
   "outputs": [
    {
     "name": "stderr",
     "output_type": "stream",
     "text": [
      "[Stage 9:==============>                                            (2 + 6) / 8]\r"
     ]
    },
    {
     "name": "stdout",
     "output_type": "stream",
     "text": [
      "+-------+------+\n",
      "|User_ID|libros|\n",
      "+-------+------+\n",
      "|     10|     2|\n",
      "|    100|     1|\n",
      "|   1000|     1|\n",
      "| 100001|     1|\n",
      "| 100002|     1|\n",
      "+-------+------+\n",
      "only showing top 5 rows\n",
      "\n"
     ]
    },
    {
     "name": "stderr",
     "output_type": "stream",
     "text": [
      "                                                                                \r"
     ]
    }
   ],
   "source": [
    "libros_valorados = spark.sql(\" \\\n",
    "                            SELECT User_ID, COUNT(User_ID) as libros \\\n",
    "                                FROM ratings \\\n",
    "                                GROUP BY User_ID \\\n",
    "                                ORDER BY User_ID \\\n",
    "                            \")\n",
    "\n",
    "libros_valorados.show(5)"
   ]
  },
  {
   "attachments": {},
   "cell_type": "markdown",
   "metadata": {},
   "source": [
    "#### Rating máximo recibido por cada editorial"
   ]
  },
  {
   "cell_type": "code",
   "execution_count": 10,
   "metadata": {},
   "outputs": [
    {
     "name": "stderr",
     "output_type": "stream",
     "text": [
      "[Stage 16:>                                                         (0 + 8) / 8]\r"
     ]
    },
    {
     "name": "stdout",
     "output_type": "stream",
     "text": [
      "+--------------------+----------+\n",
      "|           Publisher|max_rating|\n",
      "+--------------------+----------+\n",
      "| Editions P. Terrail|        10|\n",
      "|     Tri-State Press|         6|\n",
      "|             'K' Pub|         8|\n",
      "|(3 Queen Sq., WC1...|         0|\n",
      "|(49 Poland St., W...|         0|\n",
      "+--------------------+----------+\n",
      "only showing top 5 rows\n",
      "\n"
     ]
    },
    {
     "name": "stderr",
     "output_type": "stream",
     "text": [
      "                                                                                \r"
     ]
    }
   ],
   "source": [
    "rating_maximo = books.select(books[\"Publisher\"], \"ISBN\")\\\n",
    "                    .join(ratings, books.ISBN == ratings.ISBN, 'inner') \\\n",
    "                    .groupBy(books[\"Publisher\"]) \\\n",
    "                    .agg(f.max(ratings.Rating).alias(\"max_rating\"))\n",
    "\n",
    "rating_maximo.show(5)"
   ]
  },
  {
   "cell_type": "code",
   "execution_count": 11,
   "metadata": {},
   "outputs": [
    {
     "name": "stderr",
     "output_type": "stream",
     "text": [
      "[Stage 25:==============>                                           (2 + 6) / 8]\r"
     ]
    },
    {
     "name": "stdout",
     "output_type": "stream",
     "text": [
      "+--------------------+----------+\n",
      "|           Publisher|max_rating|\n",
      "+--------------------+----------+\n",
      "| Editions P. Terrail|        10|\n",
      "|     Tri-State Press|         6|\n",
      "|             'K' Pub|         8|\n",
      "|(3 Queen Sq., WC1...|         0|\n",
      "|(49 Poland St., W...|         0|\n",
      "+--------------------+----------+\n",
      "only showing top 5 rows\n",
      "\n"
     ]
    },
    {
     "name": "stderr",
     "output_type": "stream",
     "text": [
      "                                                                                \r"
     ]
    }
   ],
   "source": [
    "rating_maximo = spark.sql(\" \\\n",
    "                          SELECT Publisher, MAX(Rating) as max_rating \\\n",
    "                          FROM books \\\n",
    "                          INNER JOIN ratings \\\n",
    "                          ON books.ISBN  == ratings.ISBN \\\n",
    "                          GROUP BY Publisher \\\n",
    "                        \")\n",
    "\n",
    "rating_maximo.show(5)"
   ]
  },
  {
   "attachments": {},
   "cell_type": "markdown",
   "metadata": {},
   "source": [
    "#### Nombre del autor que ha recibido más ratings"
   ]
  },
  {
   "cell_type": "code",
   "execution_count": 31,
   "metadata": {},
   "outputs": [
    {
     "name": "stderr",
     "output_type": "stream",
     "text": [
      "[Stage 108:==============>                                          (2 + 6) / 8]\r"
     ]
    },
    {
     "name": "stdout",
     "output_type": "stream",
     "text": [
      "+------------+-----+\n",
      "| Book_Author|count|\n",
      "+------------+-----+\n",
      "|Stephen King|10053|\n",
      "+------------+-----+\n",
      "only showing top 1 row\n",
      "\n"
     ]
    },
    {
     "name": "stderr",
     "output_type": "stream",
     "text": [
      "                                                                                \r"
     ]
    }
   ],
   "source": [
    "author_max = books.join(ratings, books.ISBN == ratings.ISBN) \\\n",
    "                .groupBy(\"Book_Author\").count().orderBy(\"count\", ascending=[0])\n",
    "\n",
    "author_max.show(1)"
   ]
  },
  {
   "attachments": {},
   "cell_type": "markdown",
   "metadata": {},
   "source": [
    "## Task 2"
   ]
  },
  {
   "cell_type": "code",
   "execution_count": 24,
   "metadata": {},
   "outputs": [],
   "source": [
    "from pyspark.sql import Window\n"
   ]
  },
  {
   "attachments": {},
   "cell_type": "markdown",
   "metadata": {},
   "source": [
    "#### ¿Cuál es el título del libro con mayor número de ratings para cada editorial?"
   ]
  },
  {
   "cell_type": "code",
   "execution_count": 16,
   "metadata": {},
   "outputs": [
    {
     "name": "stdout",
     "output_type": "stream",
     "text": [
      "+----------+--------------------+--------------------+-------------------+--------------------+\n",
      "|      ISBN|          Book_Title|         Book_Author|Year_of_Publication|           Publisher|\n",
      "+----------+--------------------+--------------------+-------------------+--------------------+\n",
      "|0195153448| Classical Mythology|  Mark P. O. Morford|               2002|Oxford University...|\n",
      "|0002005018|        Clara Callan|Richard Bruce Wright|               2001|HarperFlamingo Ca...|\n",
      "|0060973129|Decision in Normandy|        Carlo D'Este|               1991|     HarperPerennial|\n",
      "|0374157065|Flu: The Story of...|    Gina Bari Kolata|               1999|Farrar Straus Giroux|\n",
      "|0393045218|The Mummies of Ur...|     E. J. W. Barber|               1999|W. W. Norton &amp...|\n",
      "+----------+--------------------+--------------------+-------------------+--------------------+\n",
      "only showing top 5 rows\n",
      "\n"
     ]
    }
   ],
   "source": [
    "books.show(5)"
   ]
  },
  {
   "cell_type": "code",
   "execution_count": 17,
   "metadata": {},
   "outputs": [
    {
     "name": "stderr",
     "output_type": "stream",
     "text": [
      "[Stage 62:=============================>                            (4 + 4) / 8]\r"
     ]
    },
    {
     "name": "stdout",
     "output_type": "stream",
     "text": [
      "+--------------------+--------------------+------+\n",
      "|          Book_Title|           Publisher|rating|\n",
      "+--------------------+--------------------+------+\n",
      "|                Liar|    Harpercollins Uk|     1|\n",
      "|     Punch With Judy|Simon &amp; Schuster|     1|\n",
      "|Prayers of the Co...|  HarperSanFrancisco|     2|\n",
      "|Postcards from Fr...|         HarperTorch|     2|\n",
      "|Fire and Rain : F...|         HarperTorch|     4|\n",
      "+--------------------+--------------------+------+\n",
      "only showing top 5 rows\n",
      "\n"
     ]
    },
    {
     "name": "stderr",
     "output_type": "stream",
     "text": [
      "                                                                                \r"
     ]
    }
   ],
   "source": [
    "num_ratings = spark.sql(\"   \\\n",
    "                        SELECT Book_Title, Publisher, MAX(rating) as rating FROM( \\\n",
    "                        SELECT Book_Title, Publisher, VIEW.rating \\\n",
    "                        FROM books \\\n",
    "                        INNER JOIN ( \\\n",
    "                            SELECT ISBN, COUNT(ISBN) AS rating \\\n",
    "                            FROM ratings \\\n",
    "                            GROUP BY ISBN \\\n",
    "                            ) VIEW \\\n",
    "                        ON books.ISBN == VIEW.ISBN \\\n",
    "                        ) VIEW2 \\\n",
    "                        GROUP BY Book_Title, Publisher \\\n",
    "\")\n",
    "\n",
    "num_ratings.show(5)"
   ]
  },
  {
   "cell_type": "code",
   "execution_count": 18,
   "metadata": {},
   "outputs": [],
   "source": [
    "overCategory = Window.partitionBy(num_ratings.Publisher) \\\n",
    "                        .orderBy(num_ratings.rating.desc())"
   ]
  },
  {
   "cell_type": "code",
   "execution_count": 27,
   "metadata": {},
   "outputs": [
    {
     "name": "stderr",
     "output_type": "stream",
     "text": [
      "[Stage 85:=====================>                                    (3 + 5) / 8]\r"
     ]
    },
    {
     "name": "stdout",
     "output_type": "stream",
     "text": [
      "+--------------------+--------------------+------+\n",
      "|          Book_Title|           Publisher|rating|\n",
      "+--------------------+--------------------+------+\n",
      "|Manna: foods of t...|101 Productions; ...|     1|\n",
      "| Portraits of Cities|22nd. Century, Ne...|     1|\n",
      "|Restoring Intimac...|                   3|     1|\n",
      "|Denver Hiking Gui...|            3D Press|     1|\n",
      "|Haley's Cleaning ...|3H Productions, Inc.|     1|\n",
      "+--------------------+--------------------+------+\n",
      "only showing top 5 rows\n",
      "\n"
     ]
    },
    {
     "name": "stderr",
     "output_type": "stream",
     "text": [
      "                                                                                \r"
     ]
    }
   ],
   "source": [
    "ranked = num_ratings.withColumn(\"rating\", f.dense_rank() \\\n",
    "                    .over(overCategory)) \n",
    "ranked = ranked.where(ranked.rating == 1)\n",
    "ranked.show(5)"
   ]
  },
  {
   "attachments": {},
   "cell_type": "markdown",
   "metadata": {},
   "source": [
    "#### ¿Cuál es la diferencia entre el número de ratings de cada libro y el número de ratings del libro con mayor número de ratings de la misma editorial?"
   ]
  },
  {
   "cell_type": "code",
   "execution_count": 33,
   "metadata": {},
   "outputs": [
    {
     "name": "stderr",
     "output_type": "stream",
     "text": [
      "[Stage 131:=====================>                                   (3 + 5) / 8]\r"
     ]
    },
    {
     "name": "stdout",
     "output_type": "stream",
     "text": [
      "+--------------------+--------------------+------+-----------+\n",
      "|          Book_Title|           Publisher|rating|rating_diff|\n",
      "+--------------------+--------------------+------+-----------+\n",
      "|Manna: foods of t...|101 Productions; ...|     2|          0|\n",
      "| Portraits of Cities|22nd. Century, Ne...|     1|          0|\n",
      "|Restoring Intimac...|                   3|     1|          0|\n",
      "|Denver Hiking Gui...|            3D Press|     1|          0|\n",
      "|Haley's Cleaning ...|3H Productions, Inc.|     1|          0|\n",
      "+--------------------+--------------------+------+-----------+\n",
      "only showing top 5 rows\n",
      "\n"
     ]
    },
    {
     "name": "stderr",
     "output_type": "stream",
     "text": [
      "                                                                                \r"
     ]
    }
   ],
   "source": [
    "overCategory = Window.partitionBy(num_ratings.Publisher) \\\n",
    "                        .orderBy(num_ratings.rating.desc())\n",
    "ranked = num_ratings.withColumn(\"rating_diff\", f.max(num_ratings.rating) \\\n",
    "                    .over(overCategory) - num_ratings.rating) \n",
    "\n",
    "ranked.show(5)"
   ]
  }
 ],
 "metadata": {
  "kernelspec": {
   "display_name": "base",
   "language": "python",
   "name": "python3"
  },
  "language_info": {
   "codemirror_mode": {
    "name": "ipython",
    "version": 3
   },
   "file_extension": ".py",
   "mimetype": "text/x-python",
   "name": "python",
   "nbconvert_exporter": "python",
   "pygments_lexer": "ipython3",
   "version": "3.9.12"
  },
  "orig_nbformat": 4,
  "vscode": {
   "interpreter": {
    "hash": "8fadc5f936274309d5ca82691dfd61f89474af03c6ebe71b05790b9d22fb5245"
   }
  }
 },
 "nbformat": 4,
 "nbformat_minor": 2
}
